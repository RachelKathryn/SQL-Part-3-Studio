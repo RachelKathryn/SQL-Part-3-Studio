{
    "metadata": {
        "kernelspec": {
            "name": "SQL",
            "display_name": "SQL",
            "language": "sql"
        },
        "language_info": {
            "name": "sql",
            "version": ""
        },
        "extensions": {
            "azuredatastudio": {
                "version": 1,
                "views": []
            }
        }
    },
    "nbformat_minor": 2,
    "nbformat": 4,
    "cells": [
        {
            "cell_type": "markdown",
            "source": [
                "# SQL Part 3 Studio\n",
                "\n",
                "### Let's practice your SQL quering skills!  For each question, work along in the notebook adding your query and answering the questions. \n",
                "\n",
                "### **DataSet**\n",
                "\n",
                "### <span style=\"font-size: 14px; font-family: -apple-system, BlinkMacSystemFont, sans-serif;\">We will be using the Goodbooks-10k dataset from the exercises in the prep work.&nbsp; Feel free reference your previous notebooks.</span>\n",
                "\n",
                "- The dataset can be found here: [goodbooks-10k](https://www.kaggle.com/zygmunt/goodbooks-10k)\n",
                "- You can access the **BooksDB** in the Launchcode server.\n",
                "\n",
                "### **Business Issue**\n",
                "\n",
                "You are an employee at a small independet bookstore and you have been tasked to increase sales.  You decide to use the BooksDB to find books and themes to highlight in fun promotions throughout each month / season.  We will be starting with March and then you will have a chance to explore another month of your choosing.  We want to come up with a list of events/ promotions to run each month.  If you are looking for ideas to include in your promotions:\n",
                "\n",
                "- [https://www.calendarr.com/united-states/calendar-2022/](https://www.calendarr.com/united-states/calendar-2022/)\n",
                "- [https://www.holidayinsights.com/moreholidays/](https://www.holidayinsights.com/moreholidays/)\n",
                "    - Click on a month and it will take you to a more detailed page"
            ],
            "metadata": {
                "azdata_cell_guid": "b9034d8a-b631-48bf-a895-1012a6ffa784"
            },
            "attachments": {}
        },
        {
            "cell_type": "markdown",
            "source": [
                "## Part 1:  March - Women's History Month, Dr Seuss Day(3/2), National Pie Day3/14, St Patrick's Day (3/17), Season - Spring"
            ],
            "metadata": {
                "azdata_cell_guid": "6e55eb1c-4a14-4076-90d2-95ed17a6309f"
            },
            "attachments": {}
        },
        {
            "cell_type": "markdown",
            "source": [
                "### **Event 1:** Women's History Month\n",
                "\n",
                "Goal: Highlight Popular Womans Authors based on ratings from the Good Reads DB.\n",
                "\n",
                "### **Write a query that returns tag\\_id, the number of times each tag\\_id is used and the tag\\_name.**  \n",
                "\n",
                "### Use the GROUP BY and HAVING clause to narrow your focus.\n",
                "\n",
                "Try multiple keywords, ie woman vs female (female ended up giving better results)"
            ],
            "metadata": {
                "azdata_cell_guid": "d220c097-e9cf-4edd-9abe-312d071217b7"
            },
            "attachments": {}
        },
        {
            "cell_type": "code",
            "source": [
                "-- Solution\n",
                "SELECT TOP 50 bt.tag_id, t.tag_name, COUNT(bt.tag_id) AS tag_count\n",
                "FROM BooksDB.dbo.tags as t\n",
                "INNER JOIN BooksDB.dbo.book_tags AS bt\n",
                "ON bt.tag_id = t.tag_id\n",
                "GROUP BY bt.tag_id, t.tag_name\n",
                "HAVING t.tag_name LIKE '%female%'\n",
                "ORDER BY tag_count DESC"
            ],
            "metadata": {
                "azdata_cell_guid": "e31b9d26-0386-44c7-828e-85f4f06f3ee6",
                "language": "sql"
            },
            "outputs": [
                {
                    "output_type": "display_data",
                    "data": {
                        "text/html": "(35 rows affected)"
                    },
                    "metadata": {}
                },
                {
                    "output_type": "display_data",
                    "data": {
                        "text/html": "Total execution time: 00:00:00.243"
                    },
                    "metadata": {}
                },
                {
                    "output_type": "execute_result",
                    "metadata": {},
                    "execution_count": 12,
                    "data": {
                        "application/vnd.dataresource+json": {
                            "schema": {
                                "fields": [
                                    {
                                        "name": "tag_id"
                                    },
                                    {
                                        "name": "tag_name"
                                    },
                                    {
                                        "name": "tag_count"
                                    }
                                ]
                            },
                            "data": [
                                {
                                    "tag_id": "11643",
                                    "tag_name": "female-author",
                                    "tag_count": "997"
                                },
                                {
                                    "tag_id": "11644",
                                    "tag_name": "female-authors",
                                    "tag_count": "721"
                                },
                                {
                                    "tag_id": "11658",
                                    "tag_name": "female-protagonist",
                                    "tag_count": "171"
                                },
                                {
                                    "tag_id": "11646",
                                    "tag_name": "female-detective",
                                    "tag_count": "32"
                                },
                                {
                                    "tag_id": "11662",
                                    "tag_name": "female-writers",
                                    "tag_count": "18"
                                },
                                {
                                    "tag_id": "11656",
                                    "tag_name": "female-pov",
                                    "tag_count": "17"
                                },
                                {
                                    "tag_id": "11642",
                                    "tag_name": "female",
                                    "tag_count": "17"
                                },
                                {
                                    "tag_id": "11652",
                                    "tag_name": "female-lead",
                                    "tag_count": "14"
                                },
                                {
                                    "tag_id": "3514",
                                    "tag_name": "author-female",
                                    "tag_count": "12"
                                },
                                {
                                    "tag_id": "28834",
                                    "tag_name": "strong-female-lead",
                                    "tag_count": "10"
                                },
                                {
                                    "tag_id": "11647",
                                    "tag_name": "female-detectives",
                                    "tag_count": "9"
                                },
                                {
                                    "tag_id": "11650",
                                    "tag_name": "female-friendship",
                                    "tag_count": "4"
                                },
                                {
                                    "tag_id": "28830",
                                    "tag_name": "strong-female",
                                    "tag_count": "4"
                                },
                                {
                                    "tag_id": "28833",
                                    "tag_name": "strong-female-characters",
                                    "tag_count": "3"
                                },
                                {
                                    "tag_id": "11645",
                                    "tag_name": "female-biographies",
                                    "tag_count": "2"
                                },
                                {
                                    "tag_id": "1741",
                                    "tag_name": "afghan-female-entrepreneur-under-ta",
                                    "tag_count": "1"
                                },
                                {
                                    "tag_id": "11648",
                                    "tag_name": "female-doctor",
                                    "tag_count": "1"
                                },
                                {
                                    "tag_id": "4309",
                                    "tag_name": "best-adult-female-friendship-books",
                                    "tag_count": "1"
                                },
                                {
                                    "tag_id": "11654",
                                    "tag_name": "female-persuasion",
                                    "tag_count": "1"
                                },
                                {
                                    "tag_id": "11649",
                                    "tag_name": "female-fiction",
                                    "tag_count": "1"
                                },
                                {
                                    "tag_id": "11651",
                                    "tag_name": "female-genre-authors",
                                    "tag_count": "1"
                                },
                                {
                                    "tag_id": "11653",
                                    "tag_name": "female-main-character",
                                    "tag_count": "1"
                                },
                                {
                                    "tag_id": "11655",
                                    "tag_name": "female-pi",
                                    "tag_count": "1"
                                },
                                {
                                    "tag_id": "11657",
                                    "tag_name": "female-povs",
                                    "tag_count": "1"
                                },
                                {
                                    "tag_id": "11659",
                                    "tag_name": "female-serial-killer",
                                    "tag_count": "1"
                                },
                                {
                                    "tag_id": "11660",
                                    "tag_name": "female-spy",
                                    "tag_count": "1"
                                },
                                {
                                    "tag_id": "15331",
                                    "tag_name": "important-female-authors",
                                    "tag_count": "1"
                                },
                                {
                                    "tag_id": "17079",
                                    "tag_name": "kick-ass-female",
                                    "tag_count": "1"
                                },
                                {
                                    "tag_id": "28831",
                                    "tag_name": "strong-female-character",
                                    "tag_count": "1"
                                },
                                {
                                    "tag_id": "28832",
                                    "tag_name": "strong-female-character-s",
                                    "tag_count": "1"
                                },
                                {
                                    "tag_id": "28835",
                                    "tag_name": "strong-female-protagonist",
                                    "tag_count": "1"
                                },
                                {
                                    "tag_id": "28836",
                                    "tag_name": "strong-female-supporting-characters",
                                    "tag_count": "1"
                                },
                                {
                                    "tag_id": "11661",
                                    "tag_name": "female-writer",
                                    "tag_count": "1"
                                },
                                {
                                    "tag_id": "24455",
                                    "tag_name": "protagonist-female",
                                    "tag_count": "1"
                                },
                                {
                                    "tag_id": "29324",
                                    "tag_name": "tbr-ax-female",
                                    "tag_count": "1"
                                }
                            ]
                        },
                        "text/html": [
                            "<table>",
                            "<tr><th>tag_id</th><th>tag_name</th><th>tag_count</th></tr>",
                            "<tr><td>11643</td><td>female-author</td><td>997</td></tr>",
                            "<tr><td>11644</td><td>female-authors</td><td>721</td></tr>",
                            "<tr><td>11658</td><td>female-protagonist</td><td>171</td></tr>",
                            "<tr><td>11646</td><td>female-detective</td><td>32</td></tr>",
                            "<tr><td>11662</td><td>female-writers</td><td>18</td></tr>",
                            "<tr><td>11656</td><td>female-pov</td><td>17</td></tr>",
                            "<tr><td>11642</td><td>female</td><td>17</td></tr>",
                            "<tr><td>11652</td><td>female-lead</td><td>14</td></tr>",
                            "<tr><td>3514</td><td>author-female</td><td>12</td></tr>",
                            "<tr><td>28834</td><td>strong-female-lead</td><td>10</td></tr>",
                            "<tr><td>11647</td><td>female-detectives</td><td>9</td></tr>",
                            "<tr><td>11650</td><td>female-friendship</td><td>4</td></tr>",
                            "<tr><td>28830</td><td>strong-female</td><td>4</td></tr>",
                            "<tr><td>28833</td><td>strong-female-characters</td><td>3</td></tr>",
                            "<tr><td>11645</td><td>female-biographies</td><td>2</td></tr>",
                            "<tr><td>1741</td><td>afghan-female-entrepreneur-under-ta</td><td>1</td></tr>",
                            "<tr><td>11648</td><td>female-doctor</td><td>1</td></tr>",
                            "<tr><td>4309</td><td>best-adult-female-friendship-books</td><td>1</td></tr>",
                            "<tr><td>11654</td><td>female-persuasion</td><td>1</td></tr>",
                            "<tr><td>11649</td><td>female-fiction</td><td>1</td></tr>",
                            "<tr><td>11651</td><td>female-genre-authors</td><td>1</td></tr>",
                            "<tr><td>11653</td><td>female-main-character</td><td>1</td></tr>",
                            "<tr><td>11655</td><td>female-pi</td><td>1</td></tr>",
                            "<tr><td>11657</td><td>female-povs</td><td>1</td></tr>",
                            "<tr><td>11659</td><td>female-serial-killer</td><td>1</td></tr>",
                            "<tr><td>11660</td><td>female-spy</td><td>1</td></tr>",
                            "<tr><td>15331</td><td>important-female-authors</td><td>1</td></tr>",
                            "<tr><td>17079</td><td>kick-ass-female</td><td>1</td></tr>",
                            "<tr><td>28831</td><td>strong-female-character</td><td>1</td></tr>",
                            "<tr><td>28832</td><td>strong-female-character-s</td><td>1</td></tr>",
                            "<tr><td>28835</td><td>strong-female-protagonist</td><td>1</td></tr>",
                            "<tr><td>28836</td><td>strong-female-supporting-characters</td><td>1</td></tr>",
                            "<tr><td>11661</td><td>female-writer</td><td>1</td></tr>",
                            "<tr><td>24455</td><td>protagonist-female</td><td>1</td></tr>",
                            "<tr><td>29324</td><td>tbr-ax-female</td><td>1</td></tr>",
                            "</table>"
                        ]
                    }
                }
            ],
            "execution_count": 12
        },
        {
            "cell_type": "markdown",
            "source": [
                "### **Which keyword(s) and tag(s) would you like to explore more?**\n",
                "\n",
                "Double click to edit."
            ],
            "metadata": {
                "azdata_cell_guid": "e9acd8b5-a62b-4ac0-bd07-19915b379ba6"
            },
            "attachments": {}
        },
        {
            "cell_type": "markdown",
            "source": [
                "### **Write a query to return authors, titles, ratings and** **selected tag(s)\\_id.**"
            ],
            "metadata": {
                "azdata_cell_guid": "59b84464-c0bc-4dac-9e02-0c803765b063"
            },
            "attachments": {}
        },
        {
            "cell_type": "code",
            "source": [
                "-- Solution\n",
                "SELECT  b.authors, b.title, b.average_rating, bt.tag_id\n",
                "FROM BooksDB.dbo.books as b\n",
                "INNER JOIN BooksDB.dbo.book_tags as bt\n",
                "ON b.book_id = bt.goodreads_book_id\n",
                "GROUP BY b.authors, b.title, b.average_rating, bt.tag_id\n",
                "HAVING bt.tag_id = 11650\n",
                "ORDER BY b.average_rating DESC\n",
                "\n",
                "-- bt.tag_id, t.tag_name, COUNT(bt.tag_id) AS tag_count\n",
                "-- FROM BooksDB.dbo.books as b\n",
                "-- INNER JOIN BooksDB.dbo.book_tags AS bt\n",
                "-- ON bt.tag_id = t.tag_id\n",
                "-- GROUP BY bt.tag_id, t.tag_name\n",
                "-- HAVING t.tag_name LIKE '%female%'\n",
                "-- ORDER BY tag_count DESC"
            ],
            "metadata": {
                "azdata_cell_guid": "51ffeaaf-6dde-4906-95f3-eb8757babf27",
                "tags": [],
                "language": "sql"
            },
            "outputs": [
                {
                    "output_type": "display_data",
                    "data": {
                        "text/html": "(4 rows affected)"
                    },
                    "metadata": {}
                },
                {
                    "output_type": "display_data",
                    "data": {
                        "text/html": "Total execution time: 00:00:00.125"
                    },
                    "metadata": {}
                },
                {
                    "output_type": "execute_result",
                    "metadata": {},
                    "execution_count": 18,
                    "data": {
                        "application/vnd.dataresource+json": {
                            "schema": {
                                "fields": [
                                    {
                                        "name": "authors"
                                    },
                                    {
                                        "name": "title"
                                    },
                                    {
                                        "name": "average_rating"
                                    },
                                    {
                                        "name": "tag_id"
                                    }
                                ]
                            },
                            "data": [
                                {
                                    "authors": "Elena Ferrante, Ann Goldstein",
                                    "title": "The Story of the Lost Child (The Neapolitan Novels, #4)",
                                    "average_rating": "4.39",
                                    "tag_id": "11650"
                                },
                                {
                                    "authors": "Helen Hooven Santmyer",
                                    "title": "And Ladies of the Club",
                                    "average_rating": "4.12",
                                    "tag_id": "11650"
                                },
                                {
                                    "authors": "Jill Conner Browne",
                                    "title": "The Sweet Potato Queens' Book of Love",
                                    "average_rating": "3.7",
                                    "tag_id": "11650"
                                },
                                {
                                    "authors": "J. Courtney Sullivan",
                                    "title": "Commencement ",
                                    "average_rating": "3.36",
                                    "tag_id": "11650"
                                }
                            ]
                        },
                        "text/html": [
                            "<table>",
                            "<tr><th>authors</th><th>title</th><th>average_rating</th><th>tag_id</th></tr>",
                            "<tr><td>Elena Ferrante, Ann Goldstein</td><td>The Story of the Lost Child (The Neapolitan Novels, #4)</td><td>4.39</td><td>11650</td></tr>",
                            "<tr><td>Helen Hooven Santmyer</td><td>And Ladies of the Club</td><td>4.12</td><td>11650</td></tr>",
                            "<tr><td>Jill Conner Browne</td><td>The Sweet Potato Queens' Book of Love</td><td>3.7</td><td>11650</td></tr>",
                            "<tr><td>J. Courtney Sullivan</td><td>Commencement </td><td>3.36</td><td>11650</td></tr>",
                            "</table>"
                        ]
                    }
                }
            ],
            "execution_count": 18
        },
        {
            "cell_type": "markdown",
            "source": [
                "### **Record your thoughts about why you wrote the query the way you did.**"
            ],
            "metadata": {
                "azdata_cell_guid": "1e19a72c-1bca-446b-a0c7-a8efbc35dcf1"
            },
            "attachments": {}
        },
        {
            "cell_type": "markdown",
            "source": [
                "# Part 2: Choose Another Month\n",
                "\n",
                "Choose another month and plan at least 2 events / promotions and answer the following questions.\n",
                "\n",
                "Which month did you choose?  \n",
                "\n",
                "What 2 events / promotions are you highlighting?\n",
                "\n",
                "> 1.\n",
                "\n",
                "> 2."
            ],
            "metadata": {
                "azdata_cell_guid": "3eaf376d-9de3-4553-a9d0-9caf74ee3d6a"
            },
            "attachments": {}
        },
        {
            "cell_type": "code",
            "source": [
                "-- Solution\n",
                "SELECT TOP 50 bt.tag_id, t.tag_name, COUNT(bt.tag_id) AS tag_count\n",
                "FROM BooksDB.dbo.tags as t\n",
                "INNER JOIN BooksDB.dbo.book_tags AS bt\n",
                "ON bt.tag_id = t.tag_id\n",
                "GROUP BY bt.tag_id, t.tag_name\n",
                "HAVING t.tag_name LIKE '%spooky%'\n",
                "ORDER BY tag_count DESC"
            ],
            "metadata": {
                "azdata_cell_guid": "bebce063-cb5a-4f49-b006-044fb01fc87c",
                "language": "sql"
            },
            "outputs": [
                {
                    "output_type": "display_data",
                    "data": {
                        "text/html": "(3 rows affected)"
                    },
                    "metadata": {}
                },
                {
                    "output_type": "display_data",
                    "data": {
                        "text/html": "Total execution time: 00:00:00.424"
                    },
                    "metadata": {}
                },
                {
                    "output_type": "execute_result",
                    "metadata": {},
                    "execution_count": 19,
                    "data": {
                        "application/vnd.dataresource+json": {
                            "schema": {
                                "fields": [
                                    {
                                        "name": "tag_id"
                                    },
                                    {
                                        "name": "tag_name"
                                    },
                                    {
                                        "name": "tag_count"
                                    }
                                ]
                            },
                            "data": [
                                {
                                    "tag_id": "28415",
                                    "tag_name": "spooky",
                                    "tag_count": "88"
                                },
                                {
                                    "tag_id": "14849",
                                    "tag_name": "horror-spooky",
                                    "tag_count": "1"
                                },
                                {
                                    "tag_id": "28416",
                                    "tag_name": "spooky-reads-for-halloween",
                                    "tag_count": "1"
                                }
                            ]
                        },
                        "text/html": [
                            "<table>",
                            "<tr><th>tag_id</th><th>tag_name</th><th>tag_count</th></tr>",
                            "<tr><td>28415</td><td>spooky</td><td>88</td></tr>",
                            "<tr><td>14849</td><td>horror-spooky</td><td>1</td></tr>",
                            "<tr><td>28416</td><td>spooky-reads-for-halloween</td><td>1</td></tr>",
                            "</table>"
                        ]
                    }
                }
            ],
            "execution_count": 19
        },
        {
            "cell_type": "code",
            "source": [
                "SELECT TOP 5 b.authors, b.title, b.average_rating, bt.tag_id\n",
                "FROM BooksDB.dbo.books as b\n",
                "INNER JOIN BooksDB.dbo.book_tags as bt\n",
                "ON b.book_id = bt.goodreads_book_id\n",
                "GROUP BY b.authors, b.title, b.average_rating, bt.tag_id\n",
                "HAVING bt.tag_id = 28415\n",
                "ORDER BY b.average_rating DESC"
            ],
            "metadata": {
                "language": "sql",
                "azdata_cell_guid": "f074a9cb-6cf4-4805-9872-472e83a805f2"
            },
            "outputs": [
                {
                    "output_type": "display_data",
                    "data": {
                        "text/html": "(5 rows affected)"
                    },
                    "metadata": {}
                },
                {
                    "output_type": "display_data",
                    "data": {
                        "text/html": "Total execution time: 00:00:00.147"
                    },
                    "metadata": {}
                },
                {
                    "output_type": "execute_result",
                    "metadata": {},
                    "execution_count": 21,
                    "data": {
                        "application/vnd.dataresource+json": {
                            "schema": {
                                "fields": [
                                    {
                                        "name": "authors"
                                    },
                                    {
                                        "name": "title"
                                    },
                                    {
                                        "name": "average_rating"
                                    },
                                    {
                                        "name": "tag_id"
                                    }
                                ]
                            },
                            "data": [
                                {
                                    "authors": "Edgar Allan Poe",
                                    "title": "The Complete Stories and Poems",
                                    "average_rating": "4.37",
                                    "tag_id": "28415"
                                },
                                {
                                    "authors": "Edgar Allan Poe, Benjamin F. Fisher",
                                    "title": "Essential Tales and Poems",
                                    "average_rating": "4.35",
                                    "tag_id": "28415"
                                },
                                {
                                    "authors": "H.P. Lovecraft",
                                    "title": "The Complete Works of H.P. Lovecraft",
                                    "average_rating": "4.34",
                                    "tag_id": "28415"
                                },
                                {
                                    "authors": "H.P. Lovecraft, August Derleth, Robert Bloch",
                                    "title": "The Best of H.P. Lovecraft: Bloodcurdling Tales of Horror and the Macabre",
                                    "average_rating": "4.31",
                                    "tag_id": "28415"
                                },
                                {
                                    "authors": "H.P. Lovecraft, S.T. Joshi",
                                    "title": "The Call of Cthulhu and Other Weird Stories",
                                    "average_rating": "4.25",
                                    "tag_id": "28415"
                                }
                            ]
                        },
                        "text/html": [
                            "<table>",
                            "<tr><th>authors</th><th>title</th><th>average_rating</th><th>tag_id</th></tr>",
                            "<tr><td>Edgar Allan Poe</td><td>The Complete Stories and Poems</td><td>4.37</td><td>28415</td></tr>",
                            "<tr><td>Edgar Allan Poe, Benjamin F. Fisher</td><td>Essential Tales and Poems</td><td>4.35</td><td>28415</td></tr>",
                            "<tr><td>H.P. Lovecraft</td><td>The Complete Works of H.P. Lovecraft</td><td>4.34</td><td>28415</td></tr>",
                            "<tr><td>H.P. Lovecraft, August Derleth, Robert Bloch</td><td>The Best of H.P. Lovecraft: Bloodcurdling Tales of Horror and the Macabre</td><td>4.31</td><td>28415</td></tr>",
                            "<tr><td>H.P. Lovecraft, S.T. Joshi</td><td>The Call of Cthulhu and Other Weird Stories</td><td>4.25</td><td>28415</td></tr>",
                            "</table>"
                        ]
                    }
                }
            ],
            "execution_count": 21
        },
        {
            "cell_type": "markdown",
            "source": [
                "# Part 3: Summarize your Work\n",
                "\n",
                "For each event write at least one query that joins any two tables in the BooksDB to support your choice and record you thoughts as to why you used the paticlular query. At least one of your queries needs to include a HAVING clause."
            ],
            "metadata": {
                "azdata_cell_guid": "1ba1363a-4f02-4962-a95a-93b80c5926b1"
            },
            "attachments": {}
        },
        {
            "cell_type": "code",
            "source": [
                "-- Event 1 Query"
            ],
            "metadata": {
                "azdata_cell_guid": "f50d32ce-4cb2-4af2-acb1-607777a76cf8",
                "language": "sql"
            },
            "outputs": [],
            "execution_count": null
        },
        {
            "cell_type": "code",
            "source": [
                ""
            ],
            "metadata": {
                "azdata_cell_guid": "5606f7f2-c46b-42d3-ac64-7ae21c3394f8",
                "language": "sql"
            },
            "outputs": [],
            "execution_count": null
        },
        {
            "cell_type": "markdown",
            "source": [
                "### **Summary of event 1:**\n",
                "\n",
                "Double Click to edit."
            ],
            "metadata": {
                "azdata_cell_guid": "3bc72d4c-077b-42d3-9528-9aff8e7b6cf3"
            },
            "attachments": {}
        },
        {
            "cell_type": "code",
            "source": [
                "-- Event 2 Query"
            ],
            "metadata": {
                "azdata_cell_guid": "dca0a98f-065f-4b0e-9d93-fcb01cad668c",
                "language": "sql"
            },
            "outputs": [],
            "execution_count": null
        },
        {
            "cell_type": "code",
            "source": [
                ""
            ],
            "metadata": {
                "azdata_cell_guid": "3aaae3a8-eff7-4b37-8970-2d913a67239b",
                "language": "sql"
            },
            "outputs": [],
            "execution_count": null
        },
        {
            "cell_type": "markdown",
            "source": [
                "### **Summary of event 2:**\n",
                "\n",
                "Double Click to edit."
            ],
            "metadata": {
                "azdata_cell_guid": "99d518dc-cd8b-42d6-9a9d-708771c9aa99"
            },
            "attachments": {}
        }
    ]
}